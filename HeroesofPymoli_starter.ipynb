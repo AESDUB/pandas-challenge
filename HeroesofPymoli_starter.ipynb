{
 "cells": [
  {
   "cell_type": "code",
   "execution_count": 135,
   "metadata": {},
   "outputs": [],
   "source": [
    "# Dependencies and Setup\n",
    "import pandas as pd\n",
    "import numpy as np"
   ]
  },
  {
   "cell_type": "code",
   "execution_count": 136,
   "metadata": {},
   "outputs": [],
   "source": [
    "# File to Load \n",
    "file_to_load = \"Resources/purchase_data.csv\""
   ]
  },
  {
   "cell_type": "code",
   "execution_count": 137,
   "metadata": {},
   "outputs": [],
   "source": [
    "# read the csv\n",
    "df_purchase_data = pd.read_csv(file_to_load)"
   ]
  },
  {
   "cell_type": "code",
   "execution_count": 139,
   "metadata": {},
   "outputs": [
    {
     "data": {
      "text/html": [
       "<div>\n",
       "<style scoped>\n",
       "    .dataframe tbody tr th:only-of-type {\n",
       "        vertical-align: middle;\n",
       "    }\n",
       "\n",
       "    .dataframe tbody tr th {\n",
       "        vertical-align: top;\n",
       "    }\n",
       "\n",
       "    .dataframe thead th {\n",
       "        text-align: right;\n",
       "    }\n",
       "</style>\n",
       "<table border=\"1\" class=\"dataframe\">\n",
       "  <thead>\n",
       "    <tr style=\"text-align: right;\">\n",
       "      <th></th>\n",
       "      <th>Total Players</th>\n",
       "    </tr>\n",
       "  </thead>\n",
       "  <tbody>\n",
       "    <tr>\n",
       "      <td>0</td>\n",
       "      <td>576</td>\n",
       "    </tr>\n",
       "  </tbody>\n",
       "</table>\n",
       "</div>"
      ],
      "text/plain": [
       "   Total Players\n",
       "0            576"
      ]
     },
     "execution_count": 139,
     "metadata": {},
     "output_type": "execute_result"
    }
   ],
   "source": [
    "#PLAYER COUNT\n",
    "\n",
    "#Total Number of Players\n",
    "\n",
    "#Need to find the count of unique values in the SN column\n",
    "player_total = len(df_purchase_data[\"SN\"].value_counts())\n",
    "\n",
    "#Create DF with = unique player\n",
    "total_df = pd.DataFrame({\"Total Players\":[player_total]})\n",
    "total_df"
   ]
  },
  {
   "cell_type": "code",
   "execution_count": 173,
   "metadata": {},
   "outputs": [
    {
     "data": {
      "text/html": [
       "<style  type=\"text/css\" >\n",
       "</style><table id=\"T_f4fbc382_4871_11ea_82a9_8c859077d186\" ><thead>    <tr>        <th class=\"blank level0\" ></th>        <th class=\"col_heading level0 col0\" >Number of Unique Items</th>        <th class=\"col_heading level0 col1\" >Average Price</th>        <th class=\"col_heading level0 col2\" >Number of Purchases</th>        <th class=\"col_heading level0 col3\" >Total Revenue</th>    </tr></thead><tbody>\n",
       "                <tr>\n",
       "                        <th id=\"T_f4fbc382_4871_11ea_82a9_8c859077d186level0_row0\" class=\"row_heading level0 row0\" >0</th>\n",
       "                        <td id=\"T_f4fbc382_4871_11ea_82a9_8c859077d186row0_col0\" class=\"data row0 col0\" >183</td>\n",
       "                        <td id=\"T_f4fbc382_4871_11ea_82a9_8c859077d186row0_col1\" class=\"data row0 col1\" >$3.05</td>\n",
       "                        <td id=\"T_f4fbc382_4871_11ea_82a9_8c859077d186row0_col2\" class=\"data row0 col2\" >780</td>\n",
       "                        <td id=\"T_f4fbc382_4871_11ea_82a9_8c859077d186row0_col3\" class=\"data row0 col3\" >$2,379.77</td>\n",
       "            </tr>\n",
       "    </tbody></table>"
      ],
      "text/plain": [
       "<pandas.io.formats.style.Styler at 0x128258750>"
      ]
     },
     "execution_count": 173,
     "metadata": {},
     "output_type": "execute_result"
    }
   ],
   "source": [
    "###PURCHASE ANALYSIS (TOTAL)\n",
    "\n",
    "# * Number of Unique Items\n",
    "# * Average Purchase Price\n",
    "# * Total Number of Purchases\n",
    "# * Total Revenue\n",
    "\n",
    "# Unique items, average price, purchase count, and revenue\n",
    "unique_items = len((df_purchase_data[\"Item ID\"]).unique())\n",
    "average_price = (df_purchase_data[\"Price\"]).mean()\n",
    "purchases = (df_purchase_data[\"Purchase ID\"]).count()\n",
    "total_revenue = (df_purchase_data[\"Price\"]).sum()\n",
    "\n",
    "# DF with variables plotted\n",
    "summary_df = pd.DataFrame({\"Number of Unique Items\":[unique_items],\n",
    "                           \"Average Price\":[average_price], \n",
    "                           \"Number of Purchases\": [purchases], \n",
    "                           \"Total Revenue\": [total_revenue]})\n",
    "summary_df.head()\n",
    "# Format as money\n",
    "summary_df.style.format({'Average Price':\"${:,.2f}\",\n",
    "                         'Total Revenue': '${:,.2f}'})"
   ]
  },
  {
   "cell_type": "code",
   "execution_count": 169,
   "metadata": {},
   "outputs": [
    {
     "data": {
      "text/html": [
       "<div>\n",
       "<style scoped>\n",
       "    .dataframe tbody tr th:only-of-type {\n",
       "        vertical-align: middle;\n",
       "    }\n",
       "\n",
       "    .dataframe tbody tr th {\n",
       "        vertical-align: top;\n",
       "    }\n",
       "\n",
       "    .dataframe thead th {\n",
       "        text-align: right;\n",
       "    }\n",
       "</style>\n",
       "<table border=\"1\" class=\"dataframe\">\n",
       "  <thead>\n",
       "    <tr style=\"text-align: right;\">\n",
       "      <th></th>\n",
       "      <th>Percentage of Players</th>\n",
       "      <th>Total Count</th>\n",
       "    </tr>\n",
       "  </thead>\n",
       "  <tbody>\n",
       "    <tr>\n",
       "      <td>Female</td>\n",
       "      <td>14.062500</td>\n",
       "      <td>81</td>\n",
       "    </tr>\n",
       "    <tr>\n",
       "      <td>Male</td>\n",
       "      <td>84.027778</td>\n",
       "      <td>484</td>\n",
       "    </tr>\n",
       "    <tr>\n",
       "      <td>Other / Non-Disclosed</td>\n",
       "      <td>1.909722</td>\n",
       "      <td>11</td>\n",
       "    </tr>\n",
       "  </tbody>\n",
       "</table>\n",
       "</div>"
      ],
      "text/plain": [
       "                       Percentage of Players  Total Count\n",
       "Female                             14.062500           81\n",
       "Male                               84.027778          484\n",
       "Other / Non-Disclosed               1.909722           11"
      ]
     },
     "execution_count": 169,
     "metadata": {},
     "output_type": "execute_result"
    }
   ],
   "source": [
    "# ### Gender Demographics\n",
    "\n",
    "# * Percentage and Count of Male Players\n",
    "# * Percentage and Count of Female Players\n",
    "# * Percentage and Count of Other / Non-Disclosed\n",
    "\n",
    "# group by gender\n",
    "gender_stats = df_purchase_data.groupby(\"Gender\")\n",
    "gender_stats.head()\n",
    "\n",
    "# Count unique screen names by gender\n",
    "total_count_gender = gender_stats.nunique()[\"SN\"]\n",
    "total_count_gender.head()\n",
    "\n",
    "# total count by gender into a percentage\n",
    "percentage_of_players = total_count_gender / total_players * 100\n",
    "\n",
    "# # create df\n",
    "gender_demo = pd.DataFrame({\"Percentage of Players\": percentage_of_players, \"Total Count\": total_count_gender})\n",
    "gender_demo.head()\n",
    "\n",
    "# remove zero from corner\n",
    "gender_demo.index.name = None\n",
    "\n",
    "# format the values \n",
    "gender_demo.sort_values([\"Total Count\"], ascending = False).style.format({\"Percentage of Players\":\"{:.2f}\"})\n",
    "gender_demo"
   ]
  },
  {
   "cell_type": "code",
   "execution_count": 193,
   "metadata": {},
   "outputs": [
    {
     "data": {
      "text/html": [
       "<style  type=\"text/css\" >\n",
       "</style><table id=\"T_5c9e1522_4876_11ea_82a9_8c859077d186\" ><thead>    <tr>        <th class=\"blank level0\" ></th>        <th class=\"col_heading level0 col0\" >Purchase Count</th>        <th class=\"col_heading level0 col1\" >Average Purchase Price</th>        <th class=\"col_heading level0 col2\" >Average Purchase Value</th>        <th class=\"col_heading level0 col3\" >Average Purchase Total per Person</th>    </tr>    <tr>        <th class=\"index_name level0\" >Gender</th>        <th class=\"blank\" ></th>        <th class=\"blank\" ></th>        <th class=\"blank\" ></th>        <th class=\"blank\" ></th>    </tr></thead><tbody>\n",
       "                <tr>\n",
       "                        <th id=\"T_5c9e1522_4876_11ea_82a9_8c859077d186level0_row0\" class=\"row_heading level0 row0\" >Female</th>\n",
       "                        <td id=\"T_5c9e1522_4876_11ea_82a9_8c859077d186row0_col0\" class=\"data row0 col0\" >113</td>\n",
       "                        <td id=\"T_5c9e1522_4876_11ea_82a9_8c859077d186row0_col1\" class=\"data row0 col1\" >$3.20</td>\n",
       "                        <td id=\"T_5c9e1522_4876_11ea_82a9_8c859077d186row0_col2\" class=\"data row0 col2\" >$361.94</td>\n",
       "                        <td id=\"T_5c9e1522_4876_11ea_82a9_8c859077d186row0_col3\" class=\"data row0 col3\" >$4.47</td>\n",
       "            </tr>\n",
       "            <tr>\n",
       "                        <th id=\"T_5c9e1522_4876_11ea_82a9_8c859077d186level0_row1\" class=\"row_heading level0 row1\" >Male</th>\n",
       "                        <td id=\"T_5c9e1522_4876_11ea_82a9_8c859077d186row1_col0\" class=\"data row1 col0\" >652</td>\n",
       "                        <td id=\"T_5c9e1522_4876_11ea_82a9_8c859077d186row1_col1\" class=\"data row1 col1\" >$3.02</td>\n",
       "                        <td id=\"T_5c9e1522_4876_11ea_82a9_8c859077d186row1_col2\" class=\"data row1 col2\" >$1,967.64</td>\n",
       "                        <td id=\"T_5c9e1522_4876_11ea_82a9_8c859077d186row1_col3\" class=\"data row1 col3\" >$4.07</td>\n",
       "            </tr>\n",
       "            <tr>\n",
       "                        <th id=\"T_5c9e1522_4876_11ea_82a9_8c859077d186level0_row2\" class=\"row_heading level0 row2\" >Other / Non-Disclosed</th>\n",
       "                        <td id=\"T_5c9e1522_4876_11ea_82a9_8c859077d186row2_col0\" class=\"data row2 col0\" >15</td>\n",
       "                        <td id=\"T_5c9e1522_4876_11ea_82a9_8c859077d186row2_col1\" class=\"data row2 col1\" >$3.35</td>\n",
       "                        <td id=\"T_5c9e1522_4876_11ea_82a9_8c859077d186row2_col2\" class=\"data row2 col2\" >$50.19</td>\n",
       "                        <td id=\"T_5c9e1522_4876_11ea_82a9_8c859077d186row2_col3\" class=\"data row2 col3\" >$4.56</td>\n",
       "            </tr>\n",
       "    </tbody></table>"
      ],
      "text/plain": [
       "<pandas.io.formats.style.Styler at 0x128276250>"
      ]
     },
     "execution_count": 193,
     "metadata": {},
     "output_type": "execute_result"
    }
   ],
   "source": [
    "### Purchasing Analysis (Gender)\n",
    "\n",
    "# * The below each broken by gender\n",
    "#   * Purchase Count\n",
    "#   * Average Purchase Price\n",
    "#   * Total Purchase Value\n",
    "#   * Average Purchase Total per Person by Gender\n",
    "\n",
    "# count of purchases by gender \n",
    "purchase_count = gender_stats[\"Purchase ID\"].count()\n",
    "purchase_count.head()\n",
    "# average purchase price by gender\n",
    "average_price = gender_stats[\"Price\"].mean()\n",
    "average_price.head()\n",
    "# average purchase total by gender \n",
    "average_spend = gender_stats[\"Price\"].sum()\n",
    "average_spend.head()\n",
    "# average purchase total by gender, divivde by purchase count by unique shoppers\n",
    "average_purchase_total = average_spend/total_count_gender\n",
    "average_purchase_total.head()\n",
    "# create df with new variables \n",
    "gender_demo = pd.DataFrame({\"Purchase Count\": purchase_count, \n",
    "                                    \"Average Purchase Price\": average_price,\n",
    "                                    \"Average Purchase Value\":average_spend,\n",
    "                                    \"Average Purchase Total per Person\": average_purchase_total})\n",
    "gender_demo.head()\n",
    "# set header as \"Gender\"\n",
    "gender_demo.index.name = \"Gender\"\n",
    "\n",
    "# formatting\n",
    "gender_demo.style.format({\"Average Purchase Value\":\"${:,.2f}\",\n",
    "                                  \"Average Purchase Price\":\"${:,.2f}\",\n",
    "                                  \"Average Purchase Total per Person\":\"${:,.2f}\"})\n",
    "\n",
    "\n"
   ]
  },
  {
   "cell_type": "code",
   "execution_count": 172,
   "metadata": {},
   "outputs": [
    {
     "data": {
      "text/html": [
       "<style  type=\"text/css\" >\n",
       "</style><table id=\"T_e8cace96_4871_11ea_82a9_8c859077d186\" ><thead>    <tr>        <th class=\"blank level0\" ></th>        <th class=\"col_heading level0 col0\" >Percentage of Players</th>        <th class=\"col_heading level0 col1\" >Total Count</th>    </tr></thead><tbody>\n",
       "                <tr>\n",
       "                        <th id=\"T_e8cace96_4871_11ea_82a9_8c859077d186level0_row0\" class=\"row_heading level0 row0\" ><10</th>\n",
       "                        <td id=\"T_e8cace96_4871_11ea_82a9_8c859077d186row0_col0\" class=\"data row0 col0\" >2.95</td>\n",
       "                        <td id=\"T_e8cace96_4871_11ea_82a9_8c859077d186row0_col1\" class=\"data row0 col1\" >17</td>\n",
       "            </tr>\n",
       "            <tr>\n",
       "                        <th id=\"T_e8cace96_4871_11ea_82a9_8c859077d186level0_row1\" class=\"row_heading level0 row1\" >10-14</th>\n",
       "                        <td id=\"T_e8cace96_4871_11ea_82a9_8c859077d186row1_col0\" class=\"data row1 col0\" >3.82</td>\n",
       "                        <td id=\"T_e8cace96_4871_11ea_82a9_8c859077d186row1_col1\" class=\"data row1 col1\" >22</td>\n",
       "            </tr>\n",
       "            <tr>\n",
       "                        <th id=\"T_e8cace96_4871_11ea_82a9_8c859077d186level0_row2\" class=\"row_heading level0 row2\" >15-19</th>\n",
       "                        <td id=\"T_e8cace96_4871_11ea_82a9_8c859077d186row2_col0\" class=\"data row2 col0\" >18.58</td>\n",
       "                        <td id=\"T_e8cace96_4871_11ea_82a9_8c859077d186row2_col1\" class=\"data row2 col1\" >107</td>\n",
       "            </tr>\n",
       "            <tr>\n",
       "                        <th id=\"T_e8cace96_4871_11ea_82a9_8c859077d186level0_row3\" class=\"row_heading level0 row3\" >20-24</th>\n",
       "                        <td id=\"T_e8cace96_4871_11ea_82a9_8c859077d186row3_col0\" class=\"data row3 col0\" >44.79</td>\n",
       "                        <td id=\"T_e8cace96_4871_11ea_82a9_8c859077d186row3_col1\" class=\"data row3 col1\" >258</td>\n",
       "            </tr>\n",
       "            <tr>\n",
       "                        <th id=\"T_e8cace96_4871_11ea_82a9_8c859077d186level0_row4\" class=\"row_heading level0 row4\" >25-29</th>\n",
       "                        <td id=\"T_e8cace96_4871_11ea_82a9_8c859077d186row4_col0\" class=\"data row4 col0\" >13.37</td>\n",
       "                        <td id=\"T_e8cace96_4871_11ea_82a9_8c859077d186row4_col1\" class=\"data row4 col1\" >77</td>\n",
       "            </tr>\n",
       "            <tr>\n",
       "                        <th id=\"T_e8cace96_4871_11ea_82a9_8c859077d186level0_row5\" class=\"row_heading level0 row5\" >30-34</th>\n",
       "                        <td id=\"T_e8cace96_4871_11ea_82a9_8c859077d186row5_col0\" class=\"data row5 col0\" >9.03</td>\n",
       "                        <td id=\"T_e8cace96_4871_11ea_82a9_8c859077d186row5_col1\" class=\"data row5 col1\" >52</td>\n",
       "            </tr>\n",
       "            <tr>\n",
       "                        <th id=\"T_e8cace96_4871_11ea_82a9_8c859077d186level0_row6\" class=\"row_heading level0 row6\" >35-39</th>\n",
       "                        <td id=\"T_e8cace96_4871_11ea_82a9_8c859077d186row6_col0\" class=\"data row6 col0\" >5.38</td>\n",
       "                        <td id=\"T_e8cace96_4871_11ea_82a9_8c859077d186row6_col1\" class=\"data row6 col1\" >31</td>\n",
       "            </tr>\n",
       "            <tr>\n",
       "                        <th id=\"T_e8cace96_4871_11ea_82a9_8c859077d186level0_row7\" class=\"row_heading level0 row7\" >40+</th>\n",
       "                        <td id=\"T_e8cace96_4871_11ea_82a9_8c859077d186row7_col0\" class=\"data row7 col0\" >2.08</td>\n",
       "                        <td id=\"T_e8cace96_4871_11ea_82a9_8c859077d186row7_col1\" class=\"data row7 col1\" >12</td>\n",
       "            </tr>\n",
       "    </tbody></table>"
      ],
      "text/plain": [
       "<pandas.io.formats.style.Styler at 0x128258590>"
      ]
     },
     "execution_count": 172,
     "metadata": {},
     "output_type": "execute_result"
    }
   ],
   "source": [
    "### Age Demographics\n",
    "\n",
    "# * The below each broken into bins of 4 years (i.e. &lt;10, 10-14, 15-19, etc.)\n",
    "#   * Purchase Count\n",
    "#   * Average Purchase Price\n",
    "#   * Total Purchase Value\n",
    "#   * Average Purchase Total per Person by Age Group\n",
    "\n",
    "# age_bins\n",
    "age_bins = [0, 9.99, 14.99, 19.99, 24.99, 29.99, 34.99, 39.99, 99999]\n",
    "age_bins\n",
    "group_headers = [\"<10\", \"10-14\", \"15-19\", \"20-24\", \"25-29\", \"30-34\", \"35-39\", \"40+\"]\n",
    "group_headers\n",
    "    \n",
    "# create age group range\n",
    "df_purchase_data[\"Age Group\"] = pd.cut(df_purchase_data[\"Age\"],age_bins, labels=group_headers)\n",
    "df_purchase_data.head()\n",
    "# new df grouped by age\n",
    "age_grouped = df_purchase_data.groupby(\"Age Group\")\n",
    "age_grouped.head()\n",
    "# count for age categories\n",
    "total_count_age = age_grouped[\"SN\"].nunique()\n",
    "total_count_age.head()\n",
    "# get percentages\n",
    "percentage_by_age = (total_count_age/total_players) * 100\n",
    "percentage_by_age.head()\n",
    "# make df for obtained variables\n",
    "age_demo = pd.DataFrame({\"Percentage of Players\": percentage_by_age, \"Total Count\": total_count_age})\n",
    "age_demo.head()\n",
    "# Format the data frame with no index name in the corner\n",
    "age_demo.index.name = None\n",
    "# Format percentage with two decimal places \n",
    "age_demo.style.format({\"Percentage of Players\":\"{:,.2f}\"})\n",
    "\n"
   ]
  },
  {
   "cell_type": "code",
   "execution_count": 179,
   "metadata": {},
   "outputs": [
    {
     "data": {
      "text/html": [
       "<style  type=\"text/css\" >\n",
       "</style><table id=\"T_4e07293e_4873_11ea_82a9_8c859077d186\" ><thead>    <tr>        <th class=\"blank level0\" ></th>        <th class=\"col_heading level0 col0\" >Purchase Count</th>        <th class=\"col_heading level0 col1\" >Average Purchase Price</th>        <th class=\"col_heading level0 col2\" >Total Purchase Value</th>    </tr>    <tr>        <th class=\"index_name level0\" >SN</th>        <th class=\"blank\" ></th>        <th class=\"blank\" ></th>        <th class=\"blank\" ></th>    </tr></thead><tbody>\n",
       "                <tr>\n",
       "                        <th id=\"T_4e07293e_4873_11ea_82a9_8c859077d186level0_row0\" class=\"row_heading level0 row0\" >Lisosia93</th>\n",
       "                        <td id=\"T_4e07293e_4873_11ea_82a9_8c859077d186row0_col0\" class=\"data row0 col0\" >5</td>\n",
       "                        <td id=\"T_4e07293e_4873_11ea_82a9_8c859077d186row0_col1\" class=\"data row0 col1\" >$3.79</td>\n",
       "                        <td id=\"T_4e07293e_4873_11ea_82a9_8c859077d186row0_col2\" class=\"data row0 col2\" >$18.96</td>\n",
       "            </tr>\n",
       "            <tr>\n",
       "                        <th id=\"T_4e07293e_4873_11ea_82a9_8c859077d186level0_row1\" class=\"row_heading level0 row1\" >Idastidru52</th>\n",
       "                        <td id=\"T_4e07293e_4873_11ea_82a9_8c859077d186row1_col0\" class=\"data row1 col0\" >4</td>\n",
       "                        <td id=\"T_4e07293e_4873_11ea_82a9_8c859077d186row1_col1\" class=\"data row1 col1\" >$3.86</td>\n",
       "                        <td id=\"T_4e07293e_4873_11ea_82a9_8c859077d186row1_col2\" class=\"data row1 col2\" >$15.45</td>\n",
       "            </tr>\n",
       "            <tr>\n",
       "                        <th id=\"T_4e07293e_4873_11ea_82a9_8c859077d186level0_row2\" class=\"row_heading level0 row2\" >Chamjask73</th>\n",
       "                        <td id=\"T_4e07293e_4873_11ea_82a9_8c859077d186row2_col0\" class=\"data row2 col0\" >3</td>\n",
       "                        <td id=\"T_4e07293e_4873_11ea_82a9_8c859077d186row2_col1\" class=\"data row2 col1\" >$4.61</td>\n",
       "                        <td id=\"T_4e07293e_4873_11ea_82a9_8c859077d186row2_col2\" class=\"data row2 col2\" >$13.83</td>\n",
       "            </tr>\n",
       "            <tr>\n",
       "                        <th id=\"T_4e07293e_4873_11ea_82a9_8c859077d186level0_row3\" class=\"row_heading level0 row3\" >Iral74</th>\n",
       "                        <td id=\"T_4e07293e_4873_11ea_82a9_8c859077d186row3_col0\" class=\"data row3 col0\" >4</td>\n",
       "                        <td id=\"T_4e07293e_4873_11ea_82a9_8c859077d186row3_col1\" class=\"data row3 col1\" >$3.40</td>\n",
       "                        <td id=\"T_4e07293e_4873_11ea_82a9_8c859077d186row3_col2\" class=\"data row3 col2\" >$13.62</td>\n",
       "            </tr>\n",
       "            <tr>\n",
       "                        <th id=\"T_4e07293e_4873_11ea_82a9_8c859077d186level0_row4\" class=\"row_heading level0 row4\" >Iskadarya95</th>\n",
       "                        <td id=\"T_4e07293e_4873_11ea_82a9_8c859077d186row4_col0\" class=\"data row4 col0\" >3</td>\n",
       "                        <td id=\"T_4e07293e_4873_11ea_82a9_8c859077d186row4_col1\" class=\"data row4 col1\" >$4.37</td>\n",
       "                        <td id=\"T_4e07293e_4873_11ea_82a9_8c859077d186row4_col2\" class=\"data row4 col2\" >$13.10</td>\n",
       "            </tr>\n",
       "    </tbody></table>"
      ],
      "text/plain": [
       "<pandas.io.formats.style.Styler at 0x128056dd0>"
      ]
     },
     "execution_count": 179,
     "metadata": {},
     "output_type": "execute_result"
    }
   ],
   "source": [
    "### Top Spenders\n",
    "\n",
    "# * Identify the the top 5 spenders in the game by total purchase value, then list (in a table):\n",
    "#   * SN\n",
    "#   * Purchase Count\n",
    "#   * Average Purchase Price\n",
    "#   * Total Purchase Value\n",
    "\n",
    "# group by SN\n",
    "spender_stats = df_purchase_data.groupby(\"SN\")\n",
    "spender_stats.head()\n",
    "# count total purchases by name\n",
    "purchase_count_total = spender_stats[\"Purchase ID\"].count()\n",
    "purchase_count_total.head()\n",
    "# Average purchase by name \n",
    "average_purchase_price = spender_stats[\"Price\"].mean()\n",
    "average_purchase_price.head()\n",
    "# purchase totals\n",
    "purchase_total_spender = spender_stats[\"Price\"].sum()\n",
    "purchase_total_spender.head()\n",
    "# make df with new variables\n",
    "top_spenders = pd.DataFrame({\"Purchase Count\": purchase_count_total,\n",
    "                             \"Average Purchase Price\": average_purchase_price,\n",
    "                             \"Total Purchase Value\":purchase_total_spender})\n",
    "top_spenders.head()\n",
    "# Sort for top 5 spender names \n",
    "sorted_spenders = top_spenders.sort_values([\"Total Purchase Value\"], ascending=False).head()\n",
    "sorted_spenders.head()\n",
    "# Format with currency style\n",
    "sorted_spenders.style.format({\"Average Purchase Total\":\"${:,.2f}\",\n",
    "                                 \"Average Purchase Price\":\"${:,.2f}\", \n",
    "                                 \"Total Purchase Value\":\"${:,.2f}\"})"
   ]
  },
  {
   "cell_type": "code",
   "execution_count": 184,
   "metadata": {},
   "outputs": [
    {
     "data": {
      "text/html": [
       "<style  type=\"text/css\" >\n",
       "</style><table id=\"T_79f5e002_4874_11ea_82a9_8c859077d186\" ><thead>    <tr>        <th class=\"blank\" ></th>        <th class=\"blank level0\" ></th>        <th class=\"col_heading level0 col0\" >Purchase Count</th>        <th class=\"col_heading level0 col1\" >Item Price</th>        <th class=\"col_heading level0 col2\" >Total Purchase Value</th>    </tr>    <tr>        <th class=\"index_name level0\" >Item ID</th>        <th class=\"index_name level1\" >Item Name</th>        <th class=\"blank\" ></th>        <th class=\"blank\" ></th>        <th class=\"blank\" ></th>    </tr></thead><tbody>\n",
       "                <tr>\n",
       "                        <th id=\"T_79f5e002_4874_11ea_82a9_8c859077d186level0_row0\" class=\"row_heading level0 row0\" >178</th>\n",
       "                        <th id=\"T_79f5e002_4874_11ea_82a9_8c859077d186level1_row0\" class=\"row_heading level1 row0\" >Oathbreaker, Last Hope of the Breaking Storm</th>\n",
       "                        <td id=\"T_79f5e002_4874_11ea_82a9_8c859077d186row0_col0\" class=\"data row0 col0\" >12</td>\n",
       "                        <td id=\"T_79f5e002_4874_11ea_82a9_8c859077d186row0_col1\" class=\"data row0 col1\" >$4.23</td>\n",
       "                        <td id=\"T_79f5e002_4874_11ea_82a9_8c859077d186row0_col2\" class=\"data row0 col2\" >$50.76</td>\n",
       "            </tr>\n",
       "            <tr>\n",
       "                        <th id=\"T_79f5e002_4874_11ea_82a9_8c859077d186level0_row1\" class=\"row_heading level0 row1\" >145</th>\n",
       "                        <th id=\"T_79f5e002_4874_11ea_82a9_8c859077d186level1_row1\" class=\"row_heading level1 row1\" >Fiery Glass Crusader</th>\n",
       "                        <td id=\"T_79f5e002_4874_11ea_82a9_8c859077d186row1_col0\" class=\"data row1 col0\" >9</td>\n",
       "                        <td id=\"T_79f5e002_4874_11ea_82a9_8c859077d186row1_col1\" class=\"data row1 col1\" >$4.58</td>\n",
       "                        <td id=\"T_79f5e002_4874_11ea_82a9_8c859077d186row1_col2\" class=\"data row1 col2\" >$41.22</td>\n",
       "            </tr>\n",
       "            <tr>\n",
       "                        <th id=\"T_79f5e002_4874_11ea_82a9_8c859077d186level0_row2\" class=\"row_heading level0 row2\" >108</th>\n",
       "                        <th id=\"T_79f5e002_4874_11ea_82a9_8c859077d186level1_row2\" class=\"row_heading level1 row2\" >Extraction, Quickblade Of Trembling Hands</th>\n",
       "                        <td id=\"T_79f5e002_4874_11ea_82a9_8c859077d186row2_col0\" class=\"data row2 col0\" >9</td>\n",
       "                        <td id=\"T_79f5e002_4874_11ea_82a9_8c859077d186row2_col1\" class=\"data row2 col1\" >$3.53</td>\n",
       "                        <td id=\"T_79f5e002_4874_11ea_82a9_8c859077d186row2_col2\" class=\"data row2 col2\" >$31.77</td>\n",
       "            </tr>\n",
       "            <tr>\n",
       "                        <th id=\"T_79f5e002_4874_11ea_82a9_8c859077d186level0_row3\" class=\"row_heading level0 row3\" >82</th>\n",
       "                        <th id=\"T_79f5e002_4874_11ea_82a9_8c859077d186level1_row3\" class=\"row_heading level1 row3\" >Nirvana</th>\n",
       "                        <td id=\"T_79f5e002_4874_11ea_82a9_8c859077d186row3_col0\" class=\"data row3 col0\" >9</td>\n",
       "                        <td id=\"T_79f5e002_4874_11ea_82a9_8c859077d186row3_col1\" class=\"data row3 col1\" >$4.90</td>\n",
       "                        <td id=\"T_79f5e002_4874_11ea_82a9_8c859077d186row3_col2\" class=\"data row3 col2\" >$44.10</td>\n",
       "            </tr>\n",
       "            <tr>\n",
       "                        <th id=\"T_79f5e002_4874_11ea_82a9_8c859077d186level0_row4\" class=\"row_heading level0 row4\" >19</th>\n",
       "                        <th id=\"T_79f5e002_4874_11ea_82a9_8c859077d186level1_row4\" class=\"row_heading level1 row4\" >Pursuit, Cudgel of Necromancy</th>\n",
       "                        <td id=\"T_79f5e002_4874_11ea_82a9_8c859077d186row4_col0\" class=\"data row4 col0\" >8</td>\n",
       "                        <td id=\"T_79f5e002_4874_11ea_82a9_8c859077d186row4_col1\" class=\"data row4 col1\" >$1.02</td>\n",
       "                        <td id=\"T_79f5e002_4874_11ea_82a9_8c859077d186row4_col2\" class=\"data row4 col2\" >$8.16</td>\n",
       "            </tr>\n",
       "    </tbody></table>"
      ],
      "text/plain": [
       "<pandas.io.formats.style.Styler at 0x128267450>"
      ]
     },
     "execution_count": 184,
     "metadata": {},
     "output_type": "execute_result"
    }
   ],
   "source": [
    "### Most Popular Items\n",
    "\n",
    "# * Identify the 5 most popular items by purchase count, then list (in a table):\n",
    "#   * Item ID\n",
    "#   * Item Name\n",
    "#   * Purchase Count\n",
    "#   * Item Price\n",
    "#   * Total Purchase Value\n",
    "\n",
    "#REMEMBER purchase count\n",
    "\n",
    "# new df with expected columns\n",
    "items = df_purchase_data[[\"Item ID\", \"Item Name\", \"Price\"]]\n",
    "items.head()\n",
    "# group by id and name\n",
    "item_stats = items.groupby([\"Item ID\",\"Item Name\"])\n",
    "item_stats.head()\n",
    "# number of purchases of each item\n",
    "item_purchase_count = item_stats[\"Price\"].count()\n",
    "item_purchase_count.head()\n",
    "# purchase value of each item \n",
    "purchase_value = (item_stats[\"Price\"].sum()) \n",
    "purchase_value.head()\n",
    "# Find individual item price\n",
    "item_price = purchase_value/item_purchase_count\n",
    "item_price.head()\n",
    "# df with new data points\n",
    "top_items = pd.DataFrame({\"Purchase Count\": item_purchase_count, \n",
    "                                   \"Item Price\": item_price,\n",
    "                                   \"Total Purchase Value\":purchase_value})\n",
    "top_items.head()\n",
    "# sort for top items\n",
    "top_format = most_popular_items.sort_values([\"Purchase Count\"], ascending=False).head()\n",
    "\n",
    "# format as currency\n",
    "top_format.style.format({\"Item Price\":\"${:,.2f}\",\n",
    "                                \"Total Purchase Value\":\"${:,.2f}\"})"
   ]
  },
  {
   "cell_type": "code",
   "execution_count": 187,
   "metadata": {},
   "outputs": [
    {
     "data": {
      "text/html": [
       "<style  type=\"text/css\" >\n",
       "</style><table id=\"T_0184a206_4875_11ea_82a9_8c859077d186\" ><thead>    <tr>        <th class=\"blank\" ></th>        <th class=\"blank level0\" ></th>        <th class=\"col_heading level0 col0\" >Purchase Count</th>        <th class=\"col_heading level0 col1\" >Item Price</th>        <th class=\"col_heading level0 col2\" >Total Purchase Value</th>    </tr>    <tr>        <th class=\"index_name level0\" >Item ID</th>        <th class=\"index_name level1\" >Item Name</th>        <th class=\"blank\" ></th>        <th class=\"blank\" ></th>        <th class=\"blank\" ></th>    </tr></thead><tbody>\n",
       "                <tr>\n",
       "                        <th id=\"T_0184a206_4875_11ea_82a9_8c859077d186level0_row0\" class=\"row_heading level0 row0\" >178</th>\n",
       "                        <th id=\"T_0184a206_4875_11ea_82a9_8c859077d186level1_row0\" class=\"row_heading level1 row0\" >Oathbreaker, Last Hope of the Breaking Storm</th>\n",
       "                        <td id=\"T_0184a206_4875_11ea_82a9_8c859077d186row0_col0\" class=\"data row0 col0\" >12</td>\n",
       "                        <td id=\"T_0184a206_4875_11ea_82a9_8c859077d186row0_col1\" class=\"data row0 col1\" >$4.23</td>\n",
       "                        <td id=\"T_0184a206_4875_11ea_82a9_8c859077d186row0_col2\" class=\"data row0 col2\" >$50.76</td>\n",
       "            </tr>\n",
       "            <tr>\n",
       "                        <th id=\"T_0184a206_4875_11ea_82a9_8c859077d186level0_row1\" class=\"row_heading level0 row1\" >145</th>\n",
       "                        <th id=\"T_0184a206_4875_11ea_82a9_8c859077d186level1_row1\" class=\"row_heading level1 row1\" >Fiery Glass Crusader</th>\n",
       "                        <td id=\"T_0184a206_4875_11ea_82a9_8c859077d186row1_col0\" class=\"data row1 col0\" >9</td>\n",
       "                        <td id=\"T_0184a206_4875_11ea_82a9_8c859077d186row1_col1\" class=\"data row1 col1\" >$4.58</td>\n",
       "                        <td id=\"T_0184a206_4875_11ea_82a9_8c859077d186row1_col2\" class=\"data row1 col2\" >$41.22</td>\n",
       "            </tr>\n",
       "            <tr>\n",
       "                        <th id=\"T_0184a206_4875_11ea_82a9_8c859077d186level0_row2\" class=\"row_heading level0 row2\" >108</th>\n",
       "                        <th id=\"T_0184a206_4875_11ea_82a9_8c859077d186level1_row2\" class=\"row_heading level1 row2\" >Extraction, Quickblade Of Trembling Hands</th>\n",
       "                        <td id=\"T_0184a206_4875_11ea_82a9_8c859077d186row2_col0\" class=\"data row2 col0\" >9</td>\n",
       "                        <td id=\"T_0184a206_4875_11ea_82a9_8c859077d186row2_col1\" class=\"data row2 col1\" >$3.53</td>\n",
       "                        <td id=\"T_0184a206_4875_11ea_82a9_8c859077d186row2_col2\" class=\"data row2 col2\" >$31.77</td>\n",
       "            </tr>\n",
       "            <tr>\n",
       "                        <th id=\"T_0184a206_4875_11ea_82a9_8c859077d186level0_row3\" class=\"row_heading level0 row3\" >82</th>\n",
       "                        <th id=\"T_0184a206_4875_11ea_82a9_8c859077d186level1_row3\" class=\"row_heading level1 row3\" >Nirvana</th>\n",
       "                        <td id=\"T_0184a206_4875_11ea_82a9_8c859077d186row3_col0\" class=\"data row3 col0\" >9</td>\n",
       "                        <td id=\"T_0184a206_4875_11ea_82a9_8c859077d186row3_col1\" class=\"data row3 col1\" >$4.90</td>\n",
       "                        <td id=\"T_0184a206_4875_11ea_82a9_8c859077d186row3_col2\" class=\"data row3 col2\" >$44.10</td>\n",
       "            </tr>\n",
       "            <tr>\n",
       "                        <th id=\"T_0184a206_4875_11ea_82a9_8c859077d186level0_row4\" class=\"row_heading level0 row4\" >19</th>\n",
       "                        <th id=\"T_0184a206_4875_11ea_82a9_8c859077d186level1_row4\" class=\"row_heading level1 row4\" >Pursuit, Cudgel of Necromancy</th>\n",
       "                        <td id=\"T_0184a206_4875_11ea_82a9_8c859077d186row4_col0\" class=\"data row4 col0\" >8</td>\n",
       "                        <td id=\"T_0184a206_4875_11ea_82a9_8c859077d186row4_col1\" class=\"data row4 col1\" >$1.02</td>\n",
       "                        <td id=\"T_0184a206_4875_11ea_82a9_8c859077d186row4_col2\" class=\"data row4 col2\" >$8.16</td>\n",
       "            </tr>\n",
       "    </tbody></table>"
      ],
      "text/plain": [
       "<pandas.io.formats.style.Styler at 0x1281e6950>"
      ]
     },
     "execution_count": 187,
     "metadata": {},
     "output_type": "execute_result"
    }
   ],
   "source": [
    "### Most Profitable Items\n",
    "\n",
    "# * Identify the 5 most profitable items by total purchase value, then list (in a table):\n",
    "#   * Item ID\n",
    "#   * Item Name\n",
    "#   * Purchase Count\n",
    "#   * Item Price\n",
    "#   * Total Purchase Value\n",
    "\n",
    "# sort by purchase value\n",
    "top_format = top_items.sort_values([\"Total Purchase Value\"], \n",
    "                                    ascending=False).head()\n",
    "# format as currency\n",
    "popular_formatted.style.format({\"Item Price\":\"${:,.2f}\",\n",
    "                                \"Total Purchase Value\":\"${:,.2f}\"})\n",
    "\n"
   ]
  },
  {
   "cell_type": "code",
   "execution_count": null,
   "metadata": {},
   "outputs": [],
   "source": [
    "# As final considerations:\n",
    "\n",
    "# * You must use the Pandas Library and the Jupyter Notebook.\n",
    "# * You must submit a link to your Jupyter Notebook with the viewable Data Frames.\n",
    "# * You must include a written description of three observable trends based on the data.\n",
    "# * See [Example Solution](HeroesOfPymoli/HeroesOfPymoli_starter.ipynb) for a reference on expected format."
   ]
  },
  {
   "cell_type": "markdown",
   "metadata": {},
   "source": [
    "Observations:\n",
    "\n",
    "1. Over 76% of players range in age from 15 to 29.\n",
    "2. While the vast majority of players identify as Males(84%), the Females/X spend approx. 12% more on in aggregate.\n",
    "3. It's appears that players are relatively selective with their purchases; with 576 unique players and 183 unique purchase options, the top 5 revenue producers all have 5 or less purchases."
   ]
  },
  {
   "cell_type": "code",
   "execution_count": null,
   "metadata": {},
   "outputs": [],
   "source": []
  },
  {
   "cell_type": "code",
   "execution_count": null,
   "metadata": {},
   "outputs": [],
   "source": []
  },
  {
   "cell_type": "code",
   "execution_count": null,
   "metadata": {},
   "outputs": [],
   "source": []
  }
 ],
 "metadata": {
  "kernelspec": {
   "display_name": "Python 3",
   "language": "python",
   "name": "python3"
  },
  "language_info": {
   "codemirror_mode": {
    "name": "ipython",
    "version": 3
   },
   "file_extension": ".py",
   "mimetype": "text/x-python",
   "name": "python",
   "nbconvert_exporter": "python",
   "pygments_lexer": "ipython3",
   "version": "3.7.4"
  }
 },
 "nbformat": 4,
 "nbformat_minor": 2
}
